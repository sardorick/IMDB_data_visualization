{
 "cells": [
  {
   "cell_type": "code",
   "execution_count": null,
   "metadata": {},
   "outputs": [],
   "source": [
    "import pandas as pd\n",
    "from datetime import timedelta, date\n",
    "import re\n",
    "import requests\n",
    "from bs4 import BeautifulSoup"
   ]
  },
  {
   "cell_type": "code",
   "execution_count": null,
   "metadata": {},
   "outputs": [],
   "source": [
    "page = requests.get('https://www.imdb.com/search/title/?title_type=feature&genres=crime&genres=Crime&explore=genres&ref_=adv_explore_rhs')\n",
    "page2 = requests.get('https://www.imdb.com/search/title/?title_type=feature&genres=crime&start=51&explore=genres&ref_=adv_nxt')\n",
    "print(page)\n",
    "print(page2)\n",
    "soup = BeautifulSoup(page.content,'html.parser')\n",
    "soup2 = BeautifulSoup(page2.content,'html.parser')"
   ]
  },
  {
   "cell_type": "code",
   "execution_count": null,
   "metadata": {},
   "outputs": [],
   "source": [
    "##movie_title and year of release\n",
    "movie_title = soup.find_all('h3',class_=\"lister-item-header\")\n",
    "\n",
    "title=[]\n",
    "yearss=[]\n",
    "for movie in movie_title:\n",
    "    title.append(movie.text.replace(\"\\n\",\"\").split(\".\")[1].split(\"(\")[0])\n",
    "    yearss.append(re.findall('[0-9]+',(movie.text.replace(\"\\n\",\"\").split(\".\")[1])))\n",
    "\n",
    "#title\n",
    "#yearss\n",
    "\n"
   ]
  },
  {
   "cell_type": "code",
   "execution_count": null,
   "metadata": {},
   "outputs": [],
   "source": [
    "movie_duration = soup.find_all('span',class_=\"runtime\")\n",
    "movie_duration2 = soup2.find_all('span',class_=\"runtime\")\n",
    "durations=[]\n",
    "# for duration in movie_duration:\n",
    "#     durations.append(duration.text.split('m')[0].strip(' '))\n",
    "# durations= [int(durat) for durat in durations]\n",
    "# len(durations)\n",
    "\n",
    "durations2=[]\n",
    "# for duration2 in movie_duration2:\n",
    "#     durations2.append(duration2.text.split('m')[0].strip(' '))\n",
    "# durations2= [int(durat2) for durat2 in durations2]\n",
    "# len(durations2)\n",
    "\n",
    "for duration, duration2 in zip(movie_duration , movie_duration2):\n",
    "    durations.append(duration.text.split('m')[0].strip(' '))\n",
    "    durations.append(duration2.text.split('m')[0].strip(' '))\n",
    "len(durations)"
   ]
  },
  {
   "cell_type": "code",
   "execution_count": null,
   "metadata": {},
   "outputs": [],
   "source": [
    "movie_discrip = soup.find_all('p',class_=\"text-muted\")\n",
    "#movie_discrip\n",
    "discriptions=[]\n",
    "for discrip in movie_discrip:\n",
    "    discriptions.append((discrip.text))\n",
    "#discriptions"
   ]
  },
  {
   "cell_type": "code",
   "execution_count": null,
   "metadata": {},
   "outputs": [],
   "source": [
    "##Movie Genre\n",
    "movie_genre = soup.find_all('span',class_=\"genre\")\n",
    "genres=[]\n",
    "for genre in movie_genre:\n",
    "    genres.append(genre.text.replace(\"\\n\",\"\").strip('    '))\n",
    "#genres"
   ]
  },
  {
   "cell_type": "code",
   "execution_count": null,
   "metadata": {},
   "outputs": [],
   "source": [
    "##Movie Rating\n",
    "movie_rating = soup.find_all('div',class_=\"inline-block ratings-imdb-rating\")\n",
    "ratings=[]\n",
    "for rating in movie_rating:\n",
    "    ratings.append(rating.text.replace(\"\\n\",''))\n",
    "#ratings = [int(k) for k in ratings]\n",
    "#ratings\n",
    "\n",
    "##Movie Votes\n",
    "movie_votes = soup.find_all('p',class_=\"sort-num_votes-visible\")\n",
    "votes=[]\n",
    "\n",
    "for vote in movie_votes:\n",
    "    votes.append(vote.text.replace(\"\\n\", '').split(':')[1].replace(\",\", '').strip(\"| Gross\"))\n",
    "votes_int = [int(vot) for vot in votes]"
   ]
  },
  {
   "cell_type": "code",
   "execution_count": null,
   "metadata": {},
   "outputs": [],
   "source": [
    "#Movie directors and stars\n",
    "movie_director = soup.find_all('p',class_='')\n",
    "directors=[]\n",
    "starss=[]\n",
    "for director in movie_director:\n",
    "    directors.append(director.text.replace(\"\\n\",'').split('|')[0].split(':')[1].split(',')[0])\n",
    "    starss.append(director.text.replace(\"\\n\",'').split('Stars:')[1])\n",
    "#starss\n",
    "#directors"
   ]
  },
  {
   "cell_type": "code",
   "execution_count": null,
   "metadata": {},
   "outputs": [],
   "source": [
    "movie_budgets = soup.find_all('span',name=\"nv\")\n",
    "movie_budgets\n",
    "budgets=[]\n",
    "# for budget in movie_budgets:\n",
    "#     budgets.append(budget.text.replace(\"\\n\", '').split('$')[1])\n",
    "\n",
    "# #votes_int = [int(vot) for vot in votes]split('M')[0]\n",
    "# budgets"
   ]
  },
  {
   "cell_type": "code",
   "execution_count": null,
   "metadata": {},
   "outputs": [],
   "source": []
  },
  {
   "cell_type": "code",
   "execution_count": null,
   "metadata": {},
   "outputs": [],
   "source": []
  },
  {
   "cell_type": "code",
   "execution_count": null,
   "metadata": {},
   "outputs": [],
   "source": []
  },
  {
   "cell_type": "code",
   "execution_count": null,
   "metadata": {},
   "outputs": [],
   "source": [
    "# #For the next 50\n",
    "# page2 = requests.get('https://www.imdb.com/search/title/?title_type=feature&genres=crime&start=51&explore=genres&ref_=adv_nxt')\n",
    "# print(page)\n",
    "# soup = BeautifulSoup(page2.content,'html.parser')\n"
   ]
  },
  {
   "cell_type": "code",
   "execution_count": null,
   "metadata": {},
   "outputs": [],
   "source": [
    "# movie_title2 = soup.find_all('h3',class_=\"lister-item-header\")\n",
    "# print(movie_title2)\n",
    "# #movie_title2[2].find_all('a')\n",
    "\n",
    "# # title2=[]\n",
    "# # for movie2 in movie_title2:\n",
    "# #     title2.append(movie2.text)\n",
    "# # title2"
   ]
  },
  {
   "cell_type": "code",
   "execution_count": null,
   "metadata": {},
   "outputs": [],
   "source": []
  },
  {
   "cell_type": "code",
   "execution_count": null,
   "metadata": {},
   "outputs": [],
   "source": []
  }
 ],
 "metadata": {
  "interpreter": {
   "hash": "b30284c3eb2fe4bedcae5b4d3ef6c8cdca82eb3ff0361126b1f813dcb02e6084"
  },
  "kernelspec": {
   "display_name": "Python 3.8.12 ('strive')",
   "language": "python",
   "name": "python3"
  },
  "language_info": {
   "codemirror_mode": {
    "name": "ipython",
    "version": 3
   },
   "file_extension": ".py",
   "mimetype": "text/x-python",
   "name": "python",
   "nbconvert_exporter": "python",
   "pygments_lexer": "ipython3",
   "version": "3.8.12"
  },
  "orig_nbformat": 4
 },
 "nbformat": 4,
 "nbformat_minor": 2
}
