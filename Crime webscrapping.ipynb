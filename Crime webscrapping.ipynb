{
 "cells": [
  {
   "cell_type": "code",
   "execution_count": 153,
   "metadata": {},
   "outputs": [],
   "source": [
    "import pandas as pd\n",
    "from datetime import timedelta, date\n",
    "import re\n",
    "import requests\n",
    "from bs4 import BeautifulSoup"
   ]
  },
  {
   "cell_type": "code",
   "execution_count": null,
   "metadata": {},
   "outputs": [],
   "source": [
    "page_num = [1,51]\n",
    "soup=[]\n",
    "for pagenums in page_num:\n",
    "    page = requests.get(f'https://www.imdb.com/search/title/?title_type=feature&genres=crime&start={page_num}&explore=genres&ref_=adv_nxt')\n",
    "    print(page)\n",
    "    soup.append(BeautifulSoup(page.content,'html.parser'))"
   ]
  },
  {
   "cell_type": "code",
   "execution_count": null,
   "metadata": {},
   "outputs": [],
   "source": [
    "##movie_title and year of release\n",
    "titles=[]\n",
    "years= []\n",
    "descriptions =[]\n",
    "durations =[]\n",
    "ratings =[]\n",
    "votes = []\n",
    "genres= []\n",
    "stars = []\n",
    "directors = []\n",
    "for item in soups:\n",
    "    movie_title = item.find_all('h3',class_=\"lister-item-header\") #get the tag containing the movie title and year of release\n",
    "    movie_discrip = item.find_all('div',class_=\"lister-item-content\") #get tags containing the description\n",
    "\n",
    "\n",
    "    #Movies and Years\n",
    "    for movies in movie_title:\n",
    "        titles.append(movies.text.replace(\"\\n\",\"\").split(\".\")[1].split(\"(\")[0])\n",
    "        years.append( pd.Series(movies.text.replace('\\n','')).str.extract(r'\\((\\d+)').squeeze()  )\n",
    "    \n",
    "      \n",
    "    #Description\n",
    "    for discrip in movie_discrip:\n",
    "        ptags=discrip.find_all('p',class_=\"text-muted\")\n",
    "        discrips=ptags[1].text.replace('\\n','')\n",
    "        descriptions.append(discrips)\n",
    "    #Duration\n",
    "        duration =ptags[0].text.replace('\\n','')\n",
    "        durations.append( pd.Series(duration).str.extract(r'(\\d+) min').squeeze())\n",
    "\n",
    "    #Ratings\n",
    "    rate = item.select(\".lister-item-content\")   \n",
    "    for rates in rate:\n",
    "        ratings.append( pd.Series(rates.text.replace('\\n','')).str.extract(r'(\\d+\\.\\d+)Rate').squeeze()  )\n",
    "    #Votes\n",
    "        votes.append( pd.Series(rates.text.replace('\\n','')).str.extract(r'Votes\\:(\\d+,\\d+)') .squeeze() )\n",
    "        \n",
    "\n",
    "    #Genres\n",
    "    movie_genre = item.find_all('span',class_=\"genre\")\n",
    "    for genre in movie_genre:\n",
    "        genres.append(genre.text.replace(\"\\n\",\"\").strip('    '))\n",
    "\n",
    "    #Stars\n",
    "    movie_star = item.find_all('p',class_='')\n",
    "    for star in movie_star:\n",
    "        stars.append(star.text.replace(\"\\n\",'').split('Stars:')[1])\n",
    "    #Directors\n",
    "        directors.append(star.text.replace(\"\\n\",'').split('|')[0].split(':')[1])\n",
    "\n",
    "        \n",
    "\n",
    "\n",
    "\n",
    "years = [int(toint) for toint in years]\n",
    "\n",
    "final_data =pd.DataFrame({'Title':titles, 'Descriptions':descriptions,'Release':years,'directors':directors,'rating':ratings,'durations':durations,'votes':votes,'genres':genres,'stars':stars})"
   ]
  },
  {
   "cell_type": "code",
   "execution_count": null,
   "metadata": {},
   "outputs": [],
   "source": [
    "#Caution!!! This code takes about 1mins 40secs to run\n",
    "\n",
    "\n",
    "start_date = []\n",
    "end_date = []\n",
    "for item in soup:\n",
    "    \n",
    "    result = item.find_all(class_ = \"lister-item-header\")\n",
    "    for tag in result:\n",
    "        url_codes = tag.a['href']\n",
    "        url = 'https://www.imdb.com{}locations?ref_=ttfc_ql_5'.format(url_codes)\n",
    "        response = requests.get(url)\n",
    "        page = BeautifulSoup(response.content, 'html.parser')\n",
    "        filming_dates = page.select('.listo')\n",
    "        \n",
    "        for tag in filming_dates:\n",
    "            start_date.append( pd.Series(tag.text.replace(\"\\n\", '')).str.extract(r'[fF]ilming [dD]ates\\s+(\\d+\\s\\w+\\s\\d+)').squeeze() )\n",
    "            end_date.append( pd.Series(tag.text.replace(\"\\n\", '')).str.extract(r'\\d+\\s-\\s(\\d+\\s\\w+\\s\\d+)').squeeze() )"
   ]
  },
  {
   "cell_type": "code",
   "execution_count": null,
   "metadata": {},
   "outputs": [],
   "source": [
    "years = [int(toint) for toint in years]\n",
    "\n",
    "final_data =pd.DataFrame({'Title':titles, 'Descriptions':descriptions,'Release':years,'Filming_start_date':start_date,'Filming_end_date':end_date ,'directors':directors,'rating':ratings,'durations':durations,'votes':votes,'genres':genres,'stars':stars})\n",
    "final_data.to_csv('Finaldata.csv', index=False)\n",
    "final_data.to_csv('Finaldata.csv', index=False)"
   ]
  }
 ],
 "metadata": {
  "interpreter": {
   "hash": "b30284c3eb2fe4bedcae5b4d3ef6c8cdca82eb3ff0361126b1f813dcb02e6084"
  },
  "kernelspec": {
   "display_name": "Python 3.8.12 ('strive')",
   "language": "python",
   "name": "python3"
  },
  "language_info": {
   "codemirror_mode": {
    "name": "ipython",
    "version": 3
   },
   "file_extension": ".py",
   "mimetype": "text/x-python",
   "name": "python",
   "nbconvert_exporter": "python",
   "pygments_lexer": "ipython3",
   "version": "3.8.12"
  },
  "orig_nbformat": 4
 },
 "nbformat": 4,
 "nbformat_minor": 2
}
