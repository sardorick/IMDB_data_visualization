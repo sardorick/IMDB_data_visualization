{
 "cells": [
  {
   "cell_type": "code",
   "execution_count": 153,
   "metadata": {},
   "outputs": [],
   "source": [
    "import pandas as pd\n",
    "from datetime import timedelta, date\n",
    "import re\n",
    "import requests\n",
    "from bs4 import BeautifulSoup"
   ]
  },
  {
   "cell_type": "code",
   "execution_count": 154,
   "metadata": {},
   "outputs": [
    {
     "name": "stdout",
     "output_type": "stream",
     "text": [
      "<Response [200]>\n",
      "<Response [200]>\n"
     ]
    }
   ],
   "source": [
    "page = requests.get('https://www.imdb.com/search/title/?title_type=feature&genres=crime&genres=Crime&explore=genres&ref_=adv_explore_rhs')\n",
    "page2 = requests.get('https://www.imdb.com/search/title/?title_type=feature&genres=crime&start=51&explore=genres&ref_=adv_nxt')\n",
    "print(page)\n",
    "print(page2)\n",
    "soup = BeautifulSoup(page.content,'html.parser')\n",
    "soup2 = BeautifulSoup(page2.content,'html.parser')"
   ]
  },
  {
   "cell_type": "code",
   "execution_count": 155,
   "metadata": {},
   "outputs": [],
   "source": [
    "##movie_title and year of release\n",
    "movie_title = soup.find_all('h3',class_=\"lister-item-header\")\n",
    "movie_title2= soup2.find_all('h3',class_=\"lister-item-header\")\n",
    "title=[]\n",
    "yearss=[]\n",
    "title2=[]\n",
    "yearss2=[]\n",
    "for movie1,movie2 in  zip(movie_title , movie_title2):\n",
    "    title.append(movie1.text.replace(\"\\n\",\"\").split(\".\")[1].split(\"(\")[0])\n",
    "    yearss.append(re.findall('[0-9]+',(movie1.text.replace(\"\\n\",\"\").split(\".\")[1])))\n",
    "    title2.append(movie2.text.replace(\"\\n\",\"\").split(\".\")[1].split(\"(\")[0])\n",
    "    yearss2.append(re.findall('[0-9]+',(movie2.text.replace(\"\\n\",\"\").split(\".\")[1])))\n",
    "\n",
    "#len(title)\n",
    "#yearss2\n",
    "\n"
   ]
  },
  {
   "cell_type": "code",
   "execution_count": 156,
   "metadata": {},
   "outputs": [],
   "source": [
    "movie_duration = soup.find_all('div',class_=\"lister-item-content\")\n",
    "movie_duration2 = soup2.find_all('div',class_=\"lister-item-content\")\n",
    "durations=[]\n",
    "durations2=[]\n",
    "\n",
    "for duration, duration2 in zip(movie_duration , movie_duration2):\n",
    "    durations.append(duration.text.replace(\"\\n\",' '))\n",
    "    durations2.append(duration2.text.replace(\"\\n\",' '))\n",
    "len(durations)\n",
    "durationss = pd.Series(durations,index=None).str.extract(r'(\\d+) min')\n",
    "durationss2= pd.Series(durations2,index=None).str.extract(r'(\\d+) min')\n"
   ]
  },
  {
   "cell_type": "code",
   "execution_count": 157,
   "metadata": {},
   "outputs": [
    {
     "data": {
      "text/plain": [
       "100"
      ]
     },
     "execution_count": 157,
     "metadata": {},
     "output_type": "execute_result"
    }
   ],
   "source": [
    "movie_discrip = soup.find_all('p',class_=\"text-muted\")\n",
    "#movie_discrip\n",
    "discriptions=[]\n",
    "for discrip in movie_discrip:\n",
    "    discriptions.append((discrip.text))\n",
    "len(discriptions)"
   ]
  },
  {
   "cell_type": "code",
   "execution_count": 158,
   "metadata": {},
   "outputs": [
    {
     "data": {
      "text/plain": [
       "50"
      ]
     },
     "execution_count": 158,
     "metadata": {},
     "output_type": "execute_result"
    }
   ],
   "source": [
    "##Movie Genre\n",
    "movie_genre = soup.find_all('span',class_=\"genre\")\n",
    "movie_genre2 = soup2.find_all('span',class_=\"genre\")\n",
    "genres1=[]\n",
    "genres2=[]\n",
    "for genre1,genre2 in zip(movie_genre,movie_genre2):\n",
    "    genres1.append(genre1.text.replace(\"\\n\",\"\").strip('    '))\n",
    "    genres2.append(genre2.text.replace(\"\\n\",\"\").strip('    '))\n",
    "len(genres2)"
   ]
  },
  {
   "cell_type": "code",
   "execution_count": 167,
   "metadata": {},
   "outputs": [
    {
     "data": {
      "text/plain": [
       "45"
      ]
     },
     "execution_count": 167,
     "metadata": {},
     "output_type": "execute_result"
    }
   ],
   "source": [
    "##Movie Rating\n",
    "movie_rating = soup.find_all('div',class_=\"inline-block ratings-imdb-rating\")\n",
    "movie_rating2 = soup2.find_all('div',class_=\"inline-block ratings-imdb-rating\")\n",
    "ratings1=[]\n",
    "ratings2=[]\n",
    "for rating1, rating2 in zip(movie_rating,movie_rating2):\n",
    "    ratings1.append(rating1.text.replace(\"\\n\",''))\n",
    "    ratings2.append(rating2.text.replace(\"\\n\",''))\n",
    "#ratings = [int(k) for k in ratings]\n",
    "#ratings\n",
    "\n",
    "##Movie Votes\n",
    "movie_votes1 = soup.find_all('p',class_=\"sort-num_votes-visible\")\n",
    "movie_votes2 = soup2.find_all('p',class_=\"sort-num_votes-visible\")\n",
    "votes1=[]\n",
    "votes2=[]\n",
    "for vote1, vote2 in zip(movie_votes1,movie_votes2):\n",
    "    votes1.append(vote1.text.replace(\"\\n\", '').split(':')[1].replace(\",\", '').strip(\"| Gross\"))\n",
    "    votes2.append(vote2.text.replace(\"\\n\", '').split(':')[1].replace(\",\", '').strip(\"| Gross\"))\n",
    "votes1_int = [int(vot) for vot in votes1]\n",
    "votes2_int = [int(vot2) for vot2 in votes2]\n",
    "len(votes1_int)"
   ]
  },
  {
   "cell_type": "code",
   "execution_count": 160,
   "metadata": {},
   "outputs": [],
   "source": [
    "#Movie directors and stars\n",
    "movie_director = soup.find_all('p',class_='')\n",
    "movie_director2 = soup2.find_all('p',class_='')\n",
    "directors=[]\n",
    "starss=[]\n",
    "directors2=[]\n",
    "starss2=[]\n",
    "for director,director2  in zip(movie_director,movie_director2):\n",
    "    directors.append(director.text.replace(\"\\n\",'').split('|')[0].split(':')[1].split(',')[0])\n",
    "    starss.append(director.text.replace(\"\\n\",'').split('Stars:')[1])\n",
    "    directors2.append(director2.text.replace(\"\\n\",'').split('|')[0].split(':')[1].split(',')[0])\n",
    "    starss2.append(director2.text.replace(\"\\n\",'').split('Stars:')[1])\n",
    "#starss\n",
    "#directors\n",
    "final_data1 =pd.DataFrame({'title':title, 'Release':yearss,'directors':directors,'votes':votes1_int,'genres':genres1,'stars':starss}) \n",
    "final_data1"
   ]
  },
  {
   "cell_type": "code",
   "execution_count": 170,
   "metadata": {},
   "outputs": [],
   "source": [
    "final_data1 =pd.DataFrame({'title':title, 'Release':yearss,'directors':directors,'genres':genres1,'stars':starss,'durationss':durationss[0]}) \n",
    "final_data2 =pd.DataFrame({'title':title2, 'Release':yearss2,'directors':directors2,'genres':genres1,'stars':starss2,'durationss':durationss2[0]}) \n"
   ]
  },
  {
   "cell_type": "code",
   "execution_count": null,
   "metadata": {},
   "outputs": [],
   "source": []
  },
  {
   "cell_type": "code",
   "execution_count": 174,
   "metadata": {},
   "outputs": [],
   "source": [
    "final_data=pd.concat([final_data1,final_data2],axis=1)\n",
    "final_data.to_csv('Dataa.csv', index=False)"
   ]
  },
  {
   "cell_type": "code",
   "execution_count": null,
   "metadata": {},
   "outputs": [],
   "source": []
  },
  {
   "cell_type": "code",
   "execution_count": null,
   "metadata": {},
   "outputs": [],
   "source": [
    "# movie_title2 = soup.find_all('h3',class_=\"lister-item-header\")\n",
    "# print(movie_title2)\n",
    "# #movie_title2[2].find_all('a')\n",
    "\n",
    "# # title2=[]\n",
    "# # for movie2 in movie_title2:\n",
    "# #     title2.append(movie2.text)\n",
    "# # title2"
   ]
  },
  {
   "cell_type": "code",
   "execution_count": null,
   "metadata": {},
   "outputs": [],
   "source": []
  },
  {
   "cell_type": "code",
   "execution_count": null,
   "metadata": {},
   "outputs": [],
   "source": []
  }
 ],
 "metadata": {
  "interpreter": {
   "hash": "b30284c3eb2fe4bedcae5b4d3ef6c8cdca82eb3ff0361126b1f813dcb02e6084"
  },
  "kernelspec": {
   "display_name": "Python 3.8.12 ('strive')",
   "language": "python",
   "name": "python3"
  },
  "language_info": {
   "codemirror_mode": {
    "name": "ipython",
    "version": 3
   },
   "file_extension": ".py",
   "mimetype": "text/x-python",
   "name": "python",
   "nbconvert_exporter": "python",
   "pygments_lexer": "ipython3",
   "version": "3.8.12"
  },
  "orig_nbformat": 4
 },
 "nbformat": 4,
 "nbformat_minor": 2
}
